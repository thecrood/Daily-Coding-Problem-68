{
 "cells": [
  {
   "cell_type": "markdown",
   "id": "6fb4342d",
   "metadata": {},
   "source": [
    "# Daily Coding Problem 68"
   ]
  },
  {
   "cell_type": "raw",
   "id": "bd116e88",
   "metadata": {},
   "source": [
    "This problem was asked by Google.\n",
    "\n",
    "On our special chessboard, two bishops attack each other if they share the same diagonal. This includes bishops that have another bishop located between them, i.e. bishops can attack through pieces.\n",
    "\n",
    "You are given N bishops, represented as (row, column) tuples on a M by M chessboard. Write a function to count the number of pairs of bishops that attack each other. The ordering of the pair doesn't matter: (1, 2) is considered the same as (2, 1).\n",
    "\n",
    "For example, given M = 5 and the list of bishops:\n",
    "\n",
    " - (0, 0)\n",
    " - (1, 2)\n",
    " - (2, 2)\n",
    " - (4, 0)\n",
    "The board would look like this:\n",
    "\n",
    "[b 0 0 0 0]\n",
    "[0 0 b 0 0]\n",
    "[0 0 b 0 0]\n",
    "[0 0 0 0 0]\n",
    "[b 0 0 0 0]\n",
    "\n",
    "You should return 2, since bishops 1 and 3 attack each other, as well as bishops 3 and 4."
   ]
  },
  {
   "cell_type": "markdown",
   "id": "79fe7587",
   "metadata": {},
   "source": [
    "# Solution\n",
    "\n",
    "If we know how many bishops are in each diagonal, then we can know how many pairs are attacking: for each diagonal, it's the number of bishops choose 2, since each bishop makes a pair with every other bishop.\n",
    "\n",
    "So, if we go through each bishop and bucket them into each separate diagonal, we can just run (b choose 2) on the number of bishops on each diagonal and sum them up. Recall that (n choose 2) is equivalent to n * (n - 1) / 2.\n",
    "\n",
    "Each bucket is represented by a tuple top_left_row, top_left_column, direction. (Or right row if it's the other way.) Then we can quickly figure out which bucket a bishop belongs to by moving up each diagonal until we hit a border."
   ]
  },
  {
   "cell_type": "code",
   "execution_count": 1,
   "id": "5dd1f041",
   "metadata": {},
   "outputs": [],
   "source": [
    "from collections import defaultdict\n",
    "\n",
    "TOP_LEFT_TO_BOTTOM_RIGHT = 0\n",
    "TOP_RIGHT_TO_BOTTOM_LEFT = 1\n",
    "\n",
    "def combos(num):\n",
    "    return num * (num - 1) / 2\n",
    "\n",
    "def pairs(bishops, m):\n",
    "    counts = defaultdict(int)\n",
    "    for r, c in bishops:\n",
    "        top_lr, top_lc = (r - min(r, c), c - min(r, c))\n",
    "        top_rr, top_rc = (r - min(r, m - c), c + min(r, m - c))\n",
    "\n",
    "        counts[top_lr, top_lc, TOP_LEFT_TO_BOTTOM_RIGHT] += 1\n",
    "        counts[top_rr, top_rc, TOP_RIGHT_TO_BOTTOM_LEFT] += 1\n",
    "    return sum(combos(c) for c in counts.values())\n"
   ]
  },
  {
   "cell_type": "markdown",
   "id": "8ed3993e",
   "metadata": {},
   "source": [
    "This runs in O(N) time and space."
   ]
  },
  {
   "cell_type": "code",
   "execution_count": null,
   "id": "4b86e132",
   "metadata": {},
   "outputs": [],
   "source": []
  }
 ],
 "metadata": {
  "kernelspec": {
   "display_name": "Python 3 (ipykernel)",
   "language": "python",
   "name": "python3"
  },
  "language_info": {
   "codemirror_mode": {
    "name": "ipython",
    "version": 3
   },
   "file_extension": ".py",
   "mimetype": "text/x-python",
   "name": "python",
   "nbconvert_exporter": "python",
   "pygments_lexer": "ipython3",
   "version": "3.8.10"
  }
 },
 "nbformat": 4,
 "nbformat_minor": 5
}
